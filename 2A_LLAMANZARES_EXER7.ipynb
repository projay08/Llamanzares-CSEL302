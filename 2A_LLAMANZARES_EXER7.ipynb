{
  "nbformat": 4,
  "nbformat_minor": 0,
  "metadata": {
    "colab": {
      "provenance": []
    },
    "kernelspec": {
      "name": "python3",
      "display_name": "Python 3"
    },
    "language_info": {
      "name": "python"
    }
  },
  "cells": [
    {
      "cell_type": "code",
      "execution_count": null,
      "metadata": {
        "id": "WBggqO7z85DB"
      },
      "outputs": [],
      "source": [
        "import pandas as pd\n",
        "import numpy as np\n",
        "import matplotlib.pyplot as plt\n",
        "import seaborn as sns\n",
        "from sklearn.model_selection import train_test_split\n",
        "from sklearn.linear_model import LinearRegression, LogisticRegression\n",
        "from sklearn.metrics import r2_score, mean_squared_error, accuracy_score, precision_score, recall_score, f1_score, roc_auc_score, roc_curve, confusion_matrix\n",
        "from sklearn.preprocessing import StandardScaler"
      ]
    },
    {
      "cell_type": "markdown",
      "source": [
        "Part 1: Data Preprocessing"
      ],
      "metadata": {
        "id": "P0yaVkem-FmD"
      }
    },
    {
      "cell_type": "markdown",
      "source": [
        "1. Load the Dataset"
      ],
      "metadata": {
        "id": "JhJNkZey-Ius"
      }
    },
    {
      "cell_type": "code",
      "source": [
        "df = pd.read_csv(\"Netflix_Userbase.csv\")\n"
      ],
      "metadata": {
        "id": "gm9P1xbh-Egj"
      },
      "execution_count": null,
      "outputs": []
    },
    {
      "cell_type": "markdown",
      "source": [
        "2. Handlimg missing values"
      ],
      "metadata": {
        "id": "A2eH6nwW-nai"
      }
    },
    {
      "cell_type": "code",
      "source": [
        "print(df.isnull().sum())"
      ],
      "metadata": {
        "id": "vTxJaGGW-T80"
      },
      "execution_count": null,
      "outputs": []
    },
    {
      "cell_type": "markdown",
      "source": [
        "3. Encode Categorical Variables"
      ],
      "metadata": {
        "id": "SWiNmQtH-un2"
      }
    },
    {
      "cell_type": "code",
      "source": [
        "df_dummies = pd.get_dummies(df, drop_first=True)\n",
        "df_dummies['Monthly Revenue']=(df['Monthly Revenue']>10).astype(int)"
      ],
      "metadata": {
        "id": "it2ygJG5-wyY"
      },
      "execution_count": null,
      "outputs": []
    },
    {
      "cell_type": "markdown",
      "source": [
        "4. Feature Selection"
      ],
      "metadata": {
        "id": "y0tvphw6-qtT"
      }
    },
    {
      "cell_type": "code",
      "source": [
        "X = df_dummies.drop(['Monthly Revenue','Age'], axis=1)\n",
        "y = df_dummies['Monthly Revenue']"
      ],
      "metadata": {
        "id": "DiDJ8BSI_NDd"
      },
      "execution_count": null,
      "outputs": []
    },
    {
      "cell_type": "markdown",
      "source": [
        "Part 2: Exploratory Data Analysis (EDA)"
      ],
      "metadata": {
        "id": "hbRz6i5XiRTU"
      }
    },
    {
      "cell_type": "markdown",
      "source": [
        "1. Descriptive Statistics"
      ],
      "metadata": {
        "id": "V7iWhr9-iR4k"
      }
    },
    {
      "cell_type": "code",
      "source": [
        "print(X.describe())\n"
      ],
      "metadata": {
        "id": "bzySEsm-_QoN"
      },
      "execution_count": null,
      "outputs": []
    },
    {
      "cell_type": "markdown",
      "source": [
        "2. Visualizations"
      ],
      "metadata": {
        "id": "4DMDVOPni-Lr"
      }
    },
    {
      "cell_type": "code",
      "source": [
        "plt.figure(figsize=(8, 6))\n",
        "sns.histplot(df_dummies['Monthly Revenue'], bins=20, kde=True)\n",
        "plt.title('Distribution of Monthly Revenue')\n",
        "plt.xlabel('Monthly Revenue')\n",
        "plt.ylabel('Count')\n",
        "plt.show()\n",
        "\n",
        "plt.figure(figsize=(8, 6))\n",
        "sns.histplot(df['Age'], bins=20, kde=True)\n",
        "plt.title('Distribution of Age')\n",
        "plt.xlabel('Age')\n",
        "plt.ylabel('Count')\n",
        "plt.show()"
      ],
      "metadata": {
        "id": "iZEPPf-uiNqZ"
      },
      "execution_count": null,
      "outputs": []
    },
    {
      "cell_type": "markdown",
      "source": [
        "Part 3: Linear Regression Model (Predicting Monthly Revenue)"
      ],
      "metadata": {
        "id": "jgvVYMPbjcuE"
      }
    },
    {
      "cell_type": "markdown",
      "source": [
        "1. Build the Model"
      ],
      "metadata": {
        "id": "1hg2kp9Ajejk"
      }
    },
    {
      "cell_type": "code",
      "source": [
        "X_train, X_test, y_train, y_test = train_test_split(X, y, test_size=0.2, random_state=42)\n",
        "\n",
        "lr_model = LinearRegression()\n",
        "lr_model.fit(X_train, y_train)"
      ],
      "metadata": {
        "id": "_nT_w0QEjghE"
      },
      "execution_count": null,
      "outputs": []
    },
    {
      "cell_type": "code",
      "source": [
        "y_pred = lr_model.predict(X_test)\n"
      ],
      "metadata": {
        "id": "3vnbZaWHkyZj"
      },
      "execution_count": null,
      "outputs": []
    },
    {
      "cell_type": "markdown",
      "source": [
        "2. Model Evaluation"
      ],
      "metadata": {
        "id": "0fYkvcFFjiO8"
      }
    },
    {
      "cell_type": "code",
      "source": [
        "mse = mean_squared_error(y_test, y_pred)\n",
        "rmse = np.sqrt(mse)\n",
        "r2 = r2_score(y_test, y_pred)\n",
        "\n",
        "print(\"Linear Regression Model Evaluation:\")\n",
        "print(\"Root Mean Squared Error (RMSE):\", rmse)\n",
        "print(\"R-squared (R2):\", r2)"
      ],
      "metadata": {
        "id": "GVnhVpIUjkV8"
      },
      "execution_count": null,
      "outputs": []
    },
    {
      "cell_type": "markdown",
      "source": [
        "Part 4: Logistic Regression Model (Predicting Customer Feedback)"
      ],
      "metadata": {
        "id": "eFNwXjGaluak"
      }
    },
    {
      "cell_type": "markdown",
      "source": [
        "1. Model Building"
      ],
      "metadata": {
        "id": "JiPaCANVmBZc"
      }
    },
    {
      "cell_type": "code",
      "source": [
        "df_dummies['Feedback'] = (df_dummies['Monthly Revenue'] > df_dummies['Monthly Revenue'].mean()).astype(int)\n",
        "\n",
        "X_logistic = df_dummies.drop(['Monthly Revenue', 'Feedback'], axis=1)\n",
        "y_logistic = df_dummies['Feedback']\n"
      ],
      "metadata": {
        "id": "w9QPVYYYmFZE"
      },
      "execution_count": null,
      "outputs": []
    },
    {
      "cell_type": "code",
      "source": [
        "X_train_logistic, X_test_logistic, y_train_logistic, y_test_logistic = train_test_split(X_logistic, y_logistic, test_size=0.2, random_state=42)\n"
      ],
      "metadata": {
        "id": "A28qaFCbnCU9"
      },
      "execution_count": null,
      "outputs": []
    },
    {
      "cell_type": "code",
      "source": [
        "logistic_model = LogisticRegression()\n",
        "logistic_model.fit(X_train_logistic, y_train_logistic)"
      ],
      "metadata": {
        "id": "iM5s371gnCv4"
      },
      "execution_count": null,
      "outputs": []
    },
    {
      "cell_type": "code",
      "source": [
        "y_pred_logistic = logistic_model.predict(X_test_logistic)"
      ],
      "metadata": {
        "id": "i_IE8rnvnFhA"
      },
      "execution_count": null,
      "outputs": []
    },
    {
      "cell_type": "markdown",
      "source": [
        "2. Model Evaluation"
      ],
      "metadata": {
        "id": "blBWELFln-E9"
      }
    },
    {
      "cell_type": "code",
      "source": [
        "accuracy = accuracy_score(y_test_logistic, y_pred_logistic)\n",
        "precision = precision_score(y_test_logistic, y_pred_logistic)\n",
        "recall = recall_score(y_test_logistic, y_pred_logistic)\n",
        "f1 = f1_score(y_test_logistic, y_pred_logistic)\n",
        "conf_matrix = confusion_matrix(y_test_logistic, y_pred_logistic)\n",
        "\n",
        "print(\"Logistic Regression Model Evaluation:\")\n",
        "print(\"Accuracy:\", accuracy)\n",
        "print(\"Precision:\", precision)\n",
        "print(\"Recall:\", recall)\n",
        "print(\"F1 Score:\", f1)\n",
        "print(\"Confusion Matrix:\")\n",
        "print(conf_matrix)"
      ],
      "metadata": {
        "id": "C5EOKpyOnf5V"
      },
      "execution_count": null,
      "outputs": []
    }
  ]
}
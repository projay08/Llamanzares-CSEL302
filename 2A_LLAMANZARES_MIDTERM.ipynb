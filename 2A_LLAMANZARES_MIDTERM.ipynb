{
  "nbformat": 4,
  "nbformat_minor": 0,
  "metadata": {
    "colab": {
      "provenance": []
    },
    "kernelspec": {
      "name": "python3",
      "display_name": "Python 3"
    },
    "language_info": {
      "name": "python"
    }
  },
  "cells": [
    {
      "cell_type": "code",
      "execution_count": null,
      "metadata": {
        "id": "h8KR8abmv3_7"
      },
      "outputs": [],
      "source": [
        "import pandas as pd\n",
        "from sklearn.preprocessing import StandardScaler\n",
        "import seaborn as sns\n",
        "import matplotlib.pyplot as plt\n",
        "from sklearn.model_selection import train_test_split\n",
        "from sklearn.linear_model import LinearRegression\n",
        "from sklearn.metrics import r2_score, mean_squared_error\n",
        "from sklearn.linear_model import LogisticRegression\n",
        "from sklearn.metrics import accuracy_score, precision_score, recall_score, f1_score, roc_auc_score, roc_curve, confusion_matrix"
      ]
    },
    {
      "cell_type": "code",
      "source": [
        "data = pd.read_csv('bank_customers_train.csv')"
      ],
      "metadata": {
        "id": "pXB7KnJWDR78"
      },
      "execution_count": null,
      "outputs": []
    },
    {
      "cell_type": "code",
      "source": [
        "summary = data.describe()"
      ],
      "metadata": {
        "id": "1HPRvFSMespw"
      },
      "execution_count": null,
      "outputs": []
    },
    {
      "cell_type": "code",
      "source": [
        "data.dropna(inplace=True)"
      ],
      "metadata": {
        "id": "XJLuzxQaDXb_"
      },
      "execution_count": null,
      "outputs": []
    },
    {
      "cell_type": "code",
      "source": [
        "data = pd.get_dummies(data, columns=['job', 'marital', 'education', 'default', 'housing', 'loan', 'contact', 'month', 'day_of_week', 'poutcome'])"
      ],
      "metadata": {
        "id": "uSgnKNIYHgHk"
      },
      "execution_count": null,
      "outputs": []
    },
    {
      "cell_type": "code",
      "source": [
        "X = data.drop(columns=['y'])\n",
        "y = data['y']\n"
      ],
      "metadata": {
        "id": "E0mXfeYOHq1a"
      },
      "execution_count": null,
      "outputs": []
    },
    {
      "cell_type": "code",
      "source": [
        "y = y.map({'yes': 1, 'no': 0})"
      ],
      "metadata": {
        "id": "K0810QKsMDnV"
      },
      "execution_count": null,
      "outputs": []
    },
    {
      "cell_type": "code",
      "source": [
        "scaler = StandardScaler()\n",
        "X_scaled = scaler.fit_transform(X)"
      ],
      "metadata": {
        "id": "0WgUfhvgI42T"
      },
      "execution_count": null,
      "outputs": []
    },
    {
      "cell_type": "code",
      "source": [
        "summary = X.describe()"
      ],
      "metadata": {
        "id": "iL5U1UcyHt1g"
      },
      "execution_count": null,
      "outputs": []
    },
    {
      "cell_type": "code",
      "source": [
        "for column in X.columns:\n",
        "    sns.histplot(X[column], kde=True)\n",
        "    plt.title(f'Distribution of {column}')\n",
        "    plt.show()"
      ],
      "metadata": {
        "id": "kErraFj-HwQA"
      },
      "execution_count": null,
      "outputs": []
    },
    {
      "cell_type": "code",
      "source": [
        "sns.pairplot(data, vars=['age', 'duration', 'campaign'], hue='y')\n",
        "plt.show()"
      ],
      "metadata": {
        "id": "1YuDgUlYHynP"
      },
      "execution_count": null,
      "outputs": []
    },
    {
      "cell_type": "code",
      "source": [
        "X_train, X_test, y_train, y_test = train_test_split(X_scaled, y, test_size=0.2, random_state=42)"
      ],
      "metadata": {
        "id": "-TbsYep7H861"
      },
      "execution_count": null,
      "outputs": []
    },
    {
      "cell_type": "code",
      "source": [
        "linear_model = LinearRegression()\n",
        "linear_model.fit(X_train, y_train)\n"
      ],
      "metadata": {
        "id": "dMiFz6lYImOP"
      },
      "execution_count": null,
      "outputs": []
    },
    {
      "cell_type": "code",
      "source": [
        "y_pred_linear = linear_model.predict(X_test)\n",
        "linear_r2 = r2_score(y_test, y_pred_linear)\n",
        "linear_mse = mean_squared_error(y_test, y_pred_linear)\n",
        "linear_rmse = mean_squared_error(y_test, y_pred_linear, squared=False)\n",
        "\n",
        "print(\"Linear Regression R-squared:\", linear_r2)\n",
        "print(\"Linear Regression MSE:\", linear_mse)\n",
        "print(\"Linear Regression RMSE:\", linear_rmse)\n"
      ],
      "metadata": {
        "id": "LMqK9ugwJGaP"
      },
      "execution_count": null,
      "outputs": []
    },
    {
      "cell_type": "code",
      "source": [
        "coefficients = pd.DataFrame({'Variable': X.columns, 'Coefficient': linear_model.coef_})\n",
        "print(\"Linear Regression Coefficients:\")\n",
        "print(coefficients)"
      ],
      "metadata": {
        "id": "PHkriSHjMkHb"
      },
      "execution_count": null,
      "outputs": []
    },
    {
      "cell_type": "code",
      "source": [
        "X_train_logistic, X_test_logistic, y_train_logistic, y_test_logistic = train_test_split(X, y_binary, test_size=0.2, random_state=42)"
      ],
      "metadata": {
        "id": "62xoIHnIaGlc"
      },
      "execution_count": null,
      "outputs": []
    },
    {
      "cell_type": "code",
      "source": [
        "logistic_model = LogisticRegression()\n",
        "logistic_model.fit(X_train_logistic, y_train_logistic)\n"
      ],
      "metadata": {
        "id": "sUz-rUE2MtxR"
      },
      "execution_count": null,
      "outputs": []
    },
    {
      "cell_type": "code",
      "source": [
        "y_pred_logistic = logistic_model.predict(X_test_logistic)"
      ],
      "metadata": {
        "id": "vmP08-LINNDz"
      },
      "execution_count": null,
      "outputs": []
    },
    {
      "cell_type": "code",
      "source": [
        "accuracy = accuracy_score(y_test_logistic, y_pred_logistic)\n",
        "precision = precision_score(y_test_logistic, y_pred_logistic)\n",
        "recall = recall_score(y_test_logistic, y_pred_logistic)\n",
        "f1 = f1_score(y_test_logistic, y_pred_logistic)\n",
        "roc_auc = roc_auc_score(y_test_logistic, y_pred_logistic)\n"
      ],
      "metadata": {
        "id": "kfEkkTI0NVPS"
      },
      "execution_count": null,
      "outputs": []
    },
    {
      "cell_type": "code",
      "source": [
        "print(\"\\nLogistic Regression Metrics:\")\n",
        "print(\"Accuracy:\", accuracy)\n",
        "print(\"Precision:\", precision)\n",
        "print(\"Recall:\", recall)\n",
        "print(\"F1 Score:\", f1)\n",
        "print(\"ROC AUC Score:\", roc_auc)"
      ],
      "metadata": {
        "id": "xBmvdbSVYRPj"
      },
      "execution_count": null,
      "outputs": []
    },
    {
      "cell_type": "code",
      "source": [
        "fpr, tpr, _ = roc_curve(y_test_logistic, logistic_model.predict_proba(X_test_logistic)[:,1])\n",
        "plt.plot(fpr, tpr)\n",
        "plt.xlabel('False Positive Rate')\n",
        "plt.ylabel('True Positive Rate')\n",
        "plt.title('ROC Curve')\n",
        "plt.show()\n"
      ],
      "metadata": {
        "id": "q76wheT6YVNH"
      },
      "execution_count": null,
      "outputs": []
    },
    {
      "cell_type": "code",
      "source": [
        "conf_matrix = confusion_matrix(y_test_logistic, y_pred_logistic)\n",
        "sns.heatmap(conf_matrix, annot=True, fmt='d')\n",
        "plt.xlabel('Predicted')\n",
        "plt.ylabel('True')\n",
        "plt.title('Confusion Matrix')\n",
        "plt.show()"
      ],
      "metadata": {
        "id": "Nu21TNH0aZlb"
      },
      "execution_count": null,
      "outputs": []
    },
    {
      "cell_type": "code",
      "source": [
        "coefficients = pd.DataFrame({'Variable': X.columns, 'Coefficient': logistic_model.coef_[0]})\n",
        "print(\"\\nLogistic Regression Coefficients:\")\n",
        "print(coefficients)"
      ],
      "metadata": {
        "id": "YJytyk1Uablp"
      },
      "execution_count": null,
      "outputs": []
    }
  ]
}